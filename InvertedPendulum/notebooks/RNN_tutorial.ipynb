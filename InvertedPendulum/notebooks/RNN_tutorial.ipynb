{
 "cells": [
  {
   "cell_type": "code",
   "execution_count": 1,
   "metadata": {},
   "outputs": [],
   "source": [
    "import numpy as np\n",
    "\n",
    "import torch\n",
    "import torch.nn as nn\n",
    "import torch.optim as optim\n",
    "from torch.utils.data import Dataset, DataLoader"
   ]
  },
  {
   "cell_type": "code",
   "execution_count": 2,
   "metadata": {},
   "outputs": [
    {
     "name": "stdout",
     "output_type": "stream",
     "text": [
      "Data:  torch.Size([20]) \n",
      "\n",
      " tensor([ 1.,  2.,  3.,  4.,  5.,  6.,  7.,  8.,  9., 10., 11., 12., 13., 14.,\n",
      "        15., 16., 17., 18., 19., 20.])\n"
     ]
    }
   ],
   "source": [
    "data = torch.Tensor([1, 2, 3, 4, 5, 6, 7, 8, 9, 10, 11, 12, 13, 14, 15, 16, 17, 18, 19, 20])\n",
    "print(\"Data: \", data.shape, \"\\n\\n\", data)"
   ]
  },
  {
   "cell_type": "code",
   "execution_count": 3,
   "metadata": {},
   "outputs": [],
   "source": [
    "# Number of features used as input. (Number of columns)\n",
    "INPUT_SIZE = 1\n",
    "\n",
    "# Number of previous time stamps taken into account.\n",
    "SEQ_LENGTH = 5\n",
    "\n",
    "# Number of features in last hidden state ie. number of output time-\n",
    "# steps to predict.See image below for more clarity.\n",
    "HIDDEN_SIZE = 2\n",
    "\n",
    "# Number of stacked rnn layers.\n",
    "NUM_LAYERS = 1\n",
    "\n",
    "# We have total of 20 rows in our input. \n",
    "# We divide the input into 4 batches where each batch has only 1\n",
    "# row. Each row corresponds to a sequence of length 5. \n",
    "BATCH_SIZE = 4"
   ]
  },
  {
   "cell_type": "code",
   "execution_count": 4,
   "metadata": {},
   "outputs": [],
   "source": [
    "# Initialize the RNN.\n",
    "rnn = nn.RNN(input_size=INPUT_SIZE, hidden_size=HIDDEN_SIZE, num_layers = 1, batch_first=True)\n",
    "\n",
    "# input size : (batch, seq_len, input_size)\n",
    "inputs = data.view(BATCH_SIZE, SEQ_LENGTH, INPUT_SIZE)\n",
    "\n",
    "# out shape = (batch, seq_len, num_directions * hidden_size)\n",
    "# h_n shape  = (num_layers * num_directions, batch, hidden_size)\n",
    "out, h_n = rnn(inputs)"
   ]
  },
  {
   "cell_type": "code",
   "execution_count": 7,
   "metadata": {},
   "outputs": [
    {
     "name": "stdout",
     "output_type": "stream",
     "text": [
      "Input:  torch.Size([4, 5, 1]) \n",
      " tensor([[[ 1.],\n",
      "         [ 2.],\n",
      "         [ 3.],\n",
      "         [ 4.],\n",
      "         [ 5.]],\n",
      "\n",
      "        [[ 6.],\n",
      "         [ 7.],\n",
      "         [ 8.],\n",
      "         [ 9.],\n",
      "         [10.]],\n",
      "\n",
      "        [[11.],\n",
      "         [12.],\n",
      "         [13.],\n",
      "         [14.],\n",
      "         [15.]],\n",
      "\n",
      "        [[16.],\n",
      "         [17.],\n",
      "         [18.],\n",
      "         [19.],\n",
      "         [20.]]])\n",
      "\n",
      "Output:  torch.Size([4, 5, 2]) \n",
      " tensor([[[-0.6492,  0.8829],\n",
      "         [-0.9713,  0.9611],\n",
      "         [-0.9938,  0.9692],\n",
      "         [-0.9980,  0.9780],\n",
      "         [-0.9993,  0.9845]],\n",
      "\n",
      "        [[-0.9981,  0.9781],\n",
      "         [-0.9999,  0.9922],\n",
      "         [-1.0000,  0.9946],\n",
      "         [-1.0000,  0.9962],\n",
      "         [-1.0000,  0.9973]],\n",
      "\n",
      "        [[-1.0000,  0.9961],\n",
      "         [-1.0000,  0.9986],\n",
      "         [-1.0000,  0.9990],\n",
      "         [-1.0000,  0.9993],\n",
      "         [-1.0000,  0.9995]],\n",
      "\n",
      "        [[-1.0000,  0.9993],\n",
      "         [-1.0000,  0.9998],\n",
      "         [-1.0000,  0.9998],\n",
      "         [-1.0000,  0.9999],\n",
      "         [-1.0000,  0.9999]]], grad_fn=<TransposeBackward1>)\n",
      "\n",
      "Hidden:  torch.Size([1, 4, 2]) \n",
      " tensor([[[-0.9993,  0.9845],\n",
      "         [-1.0000,  0.9973],\n",
      "         [-1.0000,  0.9995],\n",
      "         [-1.0000,  0.9999]]], grad_fn=<StackBackward>)\n"
     ]
    }
   ],
   "source": [
    "print('Input: ', inputs.shape, '\\n', inputs)\n",
    "print('\\nOutput: ', out.shape, '\\n', out)\n",
    "print('\\nHidden: ', h_n.shape, '\\n', h_n)"
   ]
  }
 ],
 "metadata": {
  "kernelspec": {
   "display_name": "Python 3",
   "language": "python",
   "name": "python3"
  },
  "language_info": {
   "codemirror_mode": {
    "name": "ipython",
    "version": 3
   },
   "file_extension": ".py",
   "mimetype": "text/x-python",
   "name": "python",
   "nbconvert_exporter": "python",
   "pygments_lexer": "ipython3",
   "version": "3.6.9"
  }
 },
 "nbformat": 4,
 "nbformat_minor": 4
}
